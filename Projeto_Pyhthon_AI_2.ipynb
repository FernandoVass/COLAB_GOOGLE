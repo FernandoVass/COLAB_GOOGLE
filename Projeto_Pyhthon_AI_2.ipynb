{
  "nbformat": 4,
  "nbformat_minor": 0,
  "metadata": {
    "colab": {
      "provenance": [],
      "authorship_tag": "ABX9TyPgN0CZ+SMRg9Oq6Ld5JLkb",
      "include_colab_link": true
    },
    "kernelspec": {
      "name": "python3",
      "display_name": "Python 3"
    },
    "language_info": {
      "name": "python"
    }
  },
  "cells": [
    {
      "cell_type": "markdown",
      "metadata": {
        "id": "view-in-github",
        "colab_type": "text"
      },
      "source": [
        "<a href=\"https://colab.research.google.com/github/FernandoVass/COLAB_GOOGLE/blob/main/Projeto_Pyhthon_AI_2.ipynb\" target=\"_parent\"><img src=\"https://colab.research.google.com/assets/colab-badge.svg\" alt=\"Open In Colab\"/></a>"
      ]
    },
    {
      "cell_type": "code",
      "execution_count": 1,
      "metadata": {
        "colab": {
          "base_uri": "https://localhost:8080/"
        },
        "id": "WYaaMVi5cePP",
        "outputId": "3b5d9d79-b377-467e-97e2-33d86090ea5c"
      },
      "outputs": [
        {
          "output_type": "stream",
          "name": "stdout",
          "text": [
            "\n",
            "Usage:   \n",
            "  pip3 install [options] <requirement specifier> [package-index-options] ...\n",
            "  pip3 install [options] -r <requirements file> [package-index-options] ...\n",
            "  pip3 install [options] [-e] <vcs project url> ...\n",
            "  pip3 install [options] [-e] <local project path> ...\n",
            "  pip3 install [options] <archive url/path> ...\n",
            "\n",
            "no such option: -u\n"
          ]
        }
      ],
      "source": [
        "!pip install -u -q google-generativeai"
      ]
    },
    {
      "cell_type": "code",
      "source": [
        "##IMPORTAÇÕES E CONFIGURAÇÕES INICIAIS\n",
        "import numpy as np ## Biblioteca de Estrtutura de Vetores e Operações matematica\n",
        "import pandas as pd ## Feito para manipulação de DataFrames\n",
        "import google.generativeai as genai\n",
        "\n",
        "from google.colab import userdata\n",
        "api_key = userdata.get('SECRET_KEY')\n",
        "genai.configure(api_key=api_key)"
      ],
      "metadata": {
        "id": "zLAA0TLodyjO"
      },
      "execution_count": 2,
      "outputs": []
    },
    {
      "cell_type": "code",
      "source": [
        "for m in genai.list_models() :\n",
        "  if 'embedContent' in m.supported_generation_methods:\n",
        "    print(m.name)\n",
        "  ##Mecanismo de geração de conteudo - qunado gemini está respone algo - e o outro mecanismo que é a geração de embeddings"
      ],
      "metadata": {
        "colab": {
          "base_uri": "https://localhost:8080/",
          "height": 53
        },
        "id": "zWHqzYDqx1KO",
        "outputId": "48b67496-4fab-4a27-872a-9b8f42eb5c77"
      },
      "execution_count": 3,
      "outputs": [
        {
          "output_type": "stream",
          "name": "stdout",
          "text": [
            "models/embedding-001\n",
            "models/text-embedding-004\n"
          ]
        }
      ]
    },
    {
      "cell_type": "code",
      "source": [
        "title = \"A próxima geração de IA para desenvolvedores e Google Wrkspace\"\n",
        "sample_text = (\"Título: A próxima geração de IA para desenvolvedores e Google Wokspace\"\n",
        "      \"\\n\"\n",
        "      \"Artigo completo:\\n\"\n",
        "      \"\\n\"\n",
        "      \"Gemini API & Google AI Studio: Uma maneira acessível de explorar e criar protótipos com aplicações de IA generativa\")"
      ],
      "metadata": {
        "id": "hlRcv1Lp8dJy"
      },
      "execution_count": 4,
      "outputs": []
    }
  ]
}